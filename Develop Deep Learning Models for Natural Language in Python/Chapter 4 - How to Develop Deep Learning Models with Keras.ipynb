{
  "nbformat": 4,
  "nbformat_minor": 0,
  "metadata": {
    "colab": {
      "name": "Chapter 4 - How to Develop Deep Learning Models with Keras.ipynb",
      "provenance": [],
      "collapsed_sections": []
    },
    "kernelspec": {
      "name": "python3",
      "display_name": "Python 3"
    },
    "language_info": {
      "name": "python"
    }
  },
  "cells": [
    {
      "cell_type": "markdown",
      "metadata": {
        "id": "5APKUs5EuiUN"
      },
      "source": [
        "# Develop Deep Learning Models for Natural Language in Python"
      ]
    },
    {
      "cell_type": "markdown",
      "metadata": {
        "id": "XZx-g71Vo2ih"
      },
      "source": [
        "## 4 - How to Develop Deep Learning Models with Keras\n"
      ]
    },
    {
      "cell_type": "markdown",
      "metadata": {
        "id": "ofNVY8FJueUO"
      },
      "source": [
        "### 4.1 - Keras Model Life-*Cycle*"
      ]
    },
    {
      "cell_type": "code",
      "metadata": {
        "id": "fXqdlqh3uDsJ"
      },
      "source": [
        "from keras.layers import Dense\n",
        "\n",
        "# Define the model\n",
        "model = keras.Sequential()\n",
        "\n",
        "# Add layers to the model\n",
        "model.add(Dense(units = 5, input_shape = (2, ), activation = 'relu'))\n",
        "model.add(Dense(units = 1, activation = 'sigmoid'))\n",
        "\n",
        "# Compile the model\n",
        "model.compile(optimizer = 'sgd', loss = 'mean_squered_error', metrics = ['mae'])\n",
        "\n",
        "# Overall view of the model\n",
        "model.summary()\n",
        "\n",
        "# Fit the model\n",
        "model.fit(X, y, epochs = 100, batch_size = 10, verbose = False)\n",
        "\n",
        "# Evaluate on validation data\n",
        "loss, mae = model.evaluate(X, y, verbose = True)\n",
        "\n",
        "# Predict on test data\n",
        "predictions = model.predict(X, verbose = False)"
      ],
      "execution_count": 29,
      "outputs": []
    },
    {
      "cell_type": "markdown",
      "metadata": {
        "id": "pili7To5j57e"
      },
      "source": [
        "### 4.2 - Keras Functional Models"
      ]
    },
    {
      "cell_type": "code",
      "metadata": {
        "id": "J7ClXikBkA6U"
      },
      "source": [
        "from keras.layers import Dense, Input\n",
        "from keras.models import Model\n",
        "\n",
        "# Explicate input layer\n",
        "visible = Input(shape = (2, ))\n",
        "\n",
        "# Hidden layer & chaining\n",
        "hidden = Dense(units = 2)(visible)\n",
        "\n",
        "# Build the model\n",
        "model = Model(inputs = visible, outputs = hidden)"
      ],
      "execution_count": 30,
      "outputs": []
    },
    {
      "cell_type": "markdown",
      "metadata": {
        "id": "nUZ2zBtzpcZl"
      },
      "source": [
        "### 4.3 - Standard Network Models"
      ]
    },
    {
      "cell_type": "markdown",
      "metadata": {
        "id": "ctWXsMHypisp"
      },
      "source": [
        "#### 4.3.1 - Multilayer Perceptron"
      ]
    },
    {
      "cell_type": "code",
      "metadata": {
        "colab": {
          "base_uri": "https://localhost:8080/",
          "height": 769
        },
        "id": "_hUNd3unpf5A",
        "outputId": "21f499fb-a1eb-4d2a-a25a-5b08b82deebf"
      },
      "source": [
        "from keras.layers import Dense, Input\n",
        "from keras.models import Model\n",
        "from keras.utils.vis_utils import plot_model\n",
        "\n",
        "# Input layer\n",
        "visible = Input(shape = (10, ))\n",
        "\n",
        "# Hidden layers\n",
        "hidden_1 = Dense(units = 10, activation = 'relu')(visible)\n",
        "hidden_2 = Dense(units = 20, activation = 'relu')(hidden_1)\n",
        "hidden_3 = Dense(units = 10, activation = 'relu')(hidden_2)\n",
        "\n",
        "# Output layer\n",
        "output = Dense(1, activation = 'sigmoid')(hidden_3)\n",
        "\n",
        "# Build model\n",
        "model = Model(inputs = visible, outputs = output)\n",
        "model.summary()\n",
        "\n",
        "plot_model(model, to_file = 'multilayer perceptron graph.png')"
      ],
      "execution_count": 27,
      "outputs": [
        {
          "output_type": "stream",
          "text": [
            "Model: \"model_7\"\n",
            "_________________________________________________________________\n",
            "Layer (type)                 Output Shape              Param #   \n",
            "=================================================================\n",
            "input_11 (InputLayer)        [(None, 10)]              0         \n",
            "_________________________________________________________________\n",
            "dense_36 (Dense)             (None, 10)                110       \n",
            "_________________________________________________________________\n",
            "dense_37 (Dense)             (None, 20)                220       \n",
            "_________________________________________________________________\n",
            "dense_38 (Dense)             (None, 10)                210       \n",
            "_________________________________________________________________\n",
            "dense_39 (Dense)             (None, 1)                 11        \n",
            "=================================================================\n",
            "Total params: 551\n",
            "Trainable params: 551\n",
            "Non-trainable params: 0\n",
            "_________________________________________________________________\n"
          ],
          "name": "stdout"
        },
        {
          "output_type": "execute_result",
          "data": {
            "image/png": "[encoded data removed]",
            "text/plain": [
              "<IPython.core.display.Image object>"
            ]
          },
          "metadata": {
            "tags": []
          },
          "execution_count": 27
        }
      ]
    },
    {
      "cell_type": "markdown",
      "metadata": {
        "id": "quVCT14Wr1hG"
      },
      "source": [
        "#### 4.3.2 - Convolutional Neural Network"
      ]
    },
    {
      "cell_type": "code",
      "metadata": {
        "colab": {
          "base_uri": "https://localhost:8080/",
          "height": 1000
        },
        "id": "hS0xuplwqhmO",
        "outputId": "7268e5fd-e66c-4960-dda2-fe2078749e05"
      },
      "source": [
        "from keras.layers import Dense, Input\n",
        "from keras.models import Model\n",
        "from keras.utils.vis_utils import plot_model\n",
        "from keras.layers.convolutional import Conv2D\n",
        "from keras.layers.pooling import MaxPooling2D\n",
        "\n",
        "# Input layer\n",
        "visible = Input(shape = (64, 64, 1))\n",
        "\n",
        "conv_1 = Conv2D(filters = 32, kernel_size = 4, activation = 'relu')(visible)\n",
        "pool_1 = MaxPooling2D(pool_size = (2, 2))(conv_1)\n",
        "\n",
        "conv_2 = Conv2D(filters = 16, kernel_size = 4, activation = 'relu')(pool_1)\n",
        "pool_2 = MaxPooling2D(pool_size = (2, 2))(conv_2)\n",
        "\n",
        "hidden_1 = Dense(10, activation = 'relu')(pool_2)\n",
        "output = Dense(1, activation = 'sigmoid')(hidden_1)\n",
        "\n",
        "model = Model(inputs = visible, outputs = output)\n",
        "model.summary()\n",
        "\n",
        "plot_model(model, to_file = 'convolutional neural network.png')"
      ],
      "execution_count": 34,
      "outputs": [
        {
          "output_type": "stream",
          "text": [
            "Model: \"model_9\"\n",
            "_________________________________________________________________\n",
            "Layer (type)                 Output Shape              Param #   \n",
            "=================================================================\n",
            "input_14 (InputLayer)        [(None, 64, 64, 1)]       0         \n",
            "_________________________________________________________________\n",
            "conv2d_1 (Conv2D)            (None, 61, 61, 32)        544       \n",
            "_________________________________________________________________\n",
            "max_pooling2d_1 (MaxPooling2 (None, 30, 30, 32)        0         \n",
            "_________________________________________________________________\n",
            "conv2d_2 (Conv2D)            (None, 27, 27, 16)        8208      \n",
            "_________________________________________________________________\n",
            "max_pooling2d_2 (MaxPooling2 (None, 13, 13, 16)        0         \n",
            "_________________________________________________________________\n",
            "dense_43 (Dense)             (None, 13, 13, 10)        170       \n",
            "_________________________________________________________________\n",
            "dense_44 (Dense)             (None, 13, 13, 1)         11        \n",
            "=================================================================\n",
            "Total params: 8,933\n",
            "Trainable params: 8,933\n",
            "Non-trainable params: 0\n",
            "_________________________________________________________________\n"
          ],
          "name": "stdout"
        },
        {
          "output_type": "execute_result",
          "data": {
            "image/png": "[encoded data removed]",
            "text/plain": [
              "<IPython.core.display.Image object>"
            ]
          },
          "metadata": {
            "tags": []
          },
          "execution_count": 34
        }
      ]
    },
    {
      "cell_type": "markdown",
      "metadata": {
        "id": "ZrYZwXrxt2Rc"
      },
      "source": [
        "#### 4.3.3 - Recurrent Neural Network"
      ]
    },
    {
      "cell_type": "code",
      "metadata": {
        "colab": {
          "base_uri": "https://localhost:8080/",
          "height": 638
        },
        "id": "qhJGjF1Zse2N",
        "outputId": "6599da4e-91e6-427e-cbef-d041cd939022"
      },
      "source": [
        "from keras.layers import Dense, Input\n",
        "from keras.utils.vis_utils import plot_model\n",
        "from keras.models import Model\n",
        "from keras.layers.recurrent import LSTM\n",
        "\n",
        "# Input layer\n",
        "visible = Input(shape = (100, 1))\n",
        "\n",
        "# Hidden layers\n",
        "hidden_1 = LSTM(units = 10)(visible)\n",
        "hidden_2 = Dense(units = 10, activation = 'relu')(hidden_1)\n",
        "\n",
        "# Output layer\n",
        "output = Dense(units = 1, activation = 'sigmoid')(hidden_2)\n",
        "\n",
        "model = Model(inputs = visible, outputs = output)\n",
        "model.summary()\n",
        "\n",
        "plot_model(model, to_file = 'recurrent neural network.png')"
      ],
      "execution_count": 35,
      "outputs": [
        {
          "output_type": "stream",
          "text": [
            "Model: \"model_10\"\n",
            "_________________________________________________________________\n",
            "Layer (type)                 Output Shape              Param #   \n",
            "=================================================================\n",
            "input_15 (InputLayer)        [(None, 100, 1)]          0         \n",
            "_________________________________________________________________\n",
            "lstm (LSTM)                  (None, 10)                480       \n",
            "_________________________________________________________________\n",
            "dense_45 (Dense)             (None, 10)                110       \n",
            "_________________________________________________________________\n",
            "dense_46 (Dense)             (None, 1)                 11        \n",
            "=================================================================\n",
            "Total params: 601\n",
            "Trainable params: 601\n",
            "Non-trainable params: 0\n",
            "_________________________________________________________________\n"
          ],
          "name": "stdout"
        },
        {
          "output_type": "execute_result",
          "data": {
            "image/png": "[encoded data removed]",
            "text/plain": [
              "<IPython.core.display.Image object>"
            ]
          },
          "metadata": {
            "tags": []
          },
          "execution_count": 35
        }
      ]
    }
  ]
}