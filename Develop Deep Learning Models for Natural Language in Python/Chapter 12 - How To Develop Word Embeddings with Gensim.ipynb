{
 "cells": [
  {
   "cell_type": "markdown",
   "metadata": {
    "id": "Jne_tjIZpN7V"
   },
   "source": [
    "# Develop Deep Learning Models for Natural Language in Python"
   ]
  },
  {
   "cell_type": "markdown",
   "metadata": {
    "id": "1IyPAEMipPmg"
   },
   "source": [
    "## Chapter 12 - How To Develop Word Embeddings with Gensim"
   ]
  },
  {
   "cell_type": "code",
   "execution_count": 1,
   "metadata": {
    "colab": {
     "base_uri": "https://localhost:8080/"
    },
    "executionInfo": {
     "elapsed": 3832,
     "status": "ok",
     "timestamp": 1626213324890,
     "user": {
      "displayName": "Keivan Ipchi Hagh",
      "photoUrl": "https://lh3.googleusercontent.com/a-/AOh14GiLB9sd_pf8Zc4ho0leG3b4N20YHIsHFe-zqSIhSQ=s64",
      "userId": "02569620274590613261"
     },
     "user_tz": -270
    },
    "id": "dnx0ro4lo9Sx",
    "outputId": "000d9b6d-e32c-4201-a8c9-98e7323b81de"
   },
   "outputs": [],
   "source": [
    "# !pip install gensim\n",
    "\n",
    "from gensim.models import Word2Vec, KeyedVectors\n",
    "from sklearn.decomposition import PCA\n",
    "from matplotlib import pyplot as plt"
   ]
  },
  {
   "cell_type": "code",
   "execution_count": 2,
   "metadata": {
    "executionInfo": {
     "elapsed": 10,
     "status": "ok",
     "timestamp": 1626212675347,
     "user": {
      "displayName": "Keivan Ipchi Hagh",
      "photoUrl": "https://lh3.googleusercontent.com/a-/AOh14GiLB9sd_pf8Zc4ho0leG3b4N20YHIsHFe-zqSIhSQ=s64",
      "userId": "02569620274590613261"
     },
     "user_tz": -270
    },
    "id": "ikR2pIFcpgVx"
   },
   "outputs": [],
   "source": [
    "sentences = [\n",
    "  'this is the first sentence for Word2Vec',\n",
    "  'This is the second sentence',\n",
    "  'yet another sentence',\n",
    "  'More more sentence',\n",
    "  'and the final sentence'\n",
    "]\n",
    "\n",
    "tokens = [sentence.lower().split(' ') for sentence in sentences]"
   ]
  },
  {
   "cell_type": "markdown",
   "metadata": {
    "id": "YNlSkIoX0SMe"
   },
   "source": [
    "## Construction"
   ]
  },
  {
   "cell_type": "code",
   "execution_count": 3,
   "metadata": {
    "colab": {
     "base_uri": "https://localhost:8080/"
    },
    "executionInfo": {
     "elapsed": 11,
     "status": "ok",
     "timestamp": 1626212675348,
     "user": {
      "displayName": "Keivan Ipchi Hagh",
      "photoUrl": "https://lh3.googleusercontent.com/a-/AOh14GiLB9sd_pf8Zc4ho0leG3b4N20YHIsHFe-zqSIhSQ=s64",
      "userId": "02569620274590613261"
     },
     "user_tz": -270
    },
    "id": "G4HIA4qCv0V9",
    "outputId": "f0c95acf-a82c-4c67-fafb-e36b60828ce9"
   },
   "outputs": [
    {
     "name": "stdout",
     "output_type": "stream",
     "text": [
      "Model: Word2Vec(vocab=13, vector_size=100, alpha=0.025)\n",
      "Vocab: ['sentence', 'the', 'more', 'is', 'this', 'final', 'and', 'another', 'yet', 'second', 'word2vec', 'for', 'first']\n",
      "[-5.3622725e-04  2.3643016e-04  5.1033497e-03  9.0092728e-03\n",
      " -9.3029495e-03 -7.1168090e-03  6.4588715e-03  8.9729885e-03\n",
      " -5.0154282e-03 -3.7633730e-03  7.3805046e-03 -1.5334726e-03\n",
      " -4.5366143e-03  6.5540504e-03 -4.8601604e-03 -1.8160177e-03\n",
      "  2.8765798e-03  9.9187379e-04 -8.2852151e-03 -9.4488189e-03\n",
      "  7.3117660e-03  5.0702621e-03  6.7576934e-03  7.6286553e-04\n",
      "  6.3508893e-03 -3.4053659e-03 -9.4640255e-04  5.7685734e-03\n",
      " -7.5216386e-03 -3.9361049e-03 -7.5115822e-03 -9.3004224e-04\n",
      "  9.5381187e-03 -7.3191668e-03 -2.3337698e-03 -1.9377422e-03\n",
      "  8.0774352e-03 -5.9308959e-03  4.5161247e-05 -4.7537349e-03\n",
      " -9.6035507e-03  5.0072931e-03 -8.7595871e-03 -4.3918253e-03\n",
      " -3.5099984e-05 -2.9618264e-04 -7.6612402e-03  9.6147414e-03\n",
      "  4.9820566e-03  9.2331432e-03 -8.1579182e-03  4.4957972e-03\n",
      " -4.1370774e-03  8.2453492e-04  8.4986184e-03 -4.4621779e-03\n",
      "  4.5175003e-03 -6.7869616e-03 -3.5484887e-03  9.3985079e-03\n",
      " -1.5776539e-03  3.2137157e-04 -4.1406299e-03 -7.6826881e-03\n",
      " -1.5080094e-03  2.4697948e-03 -8.8802812e-04  5.5336617e-03\n",
      " -2.7429771e-03  2.2600652e-03  5.4557943e-03  8.3459523e-03\n",
      " -1.4537406e-03 -9.2081428e-03  4.3705511e-03  5.7178497e-04\n",
      "  7.4419067e-03 -8.1328390e-04 -2.6384138e-03 -8.7530091e-03\n",
      " -8.5655687e-04  2.8265619e-03  5.4014279e-03  7.0526553e-03\n",
      " -5.7031228e-03  1.8588186e-03  6.0888622e-03 -4.7980524e-03\n",
      " -3.1072616e-03  6.7976285e-03  1.6314745e-03  1.8991709e-04\n",
      "  3.4736372e-03  2.1777629e-04  9.6188262e-03  5.0606038e-03\n",
      " -8.9173913e-03 -7.0415614e-03  9.0145587e-04  6.3925339e-03]\n"
     ]
    }
   ],
   "source": [
    "# Create model\n",
    "model = Word2Vec(sentences = tokens, min_count = 1)\n",
    "print('Model:', model)\n",
    "\n",
    "# Vocab\n",
    "vocab = list(model.wv.index_to_key)\n",
    "print('Vocab:', vocab)\n",
    "print(model.wv['sentence'])"
   ]
  },
  {
   "cell_type": "markdown",
   "metadata": {
    "id": "H0YeRX3T0PuW"
   },
   "source": [
    "## Save & Load"
   ]
  },
  {
   "cell_type": "code",
   "execution_count": 4,
   "metadata": {
    "executionInfo": {
     "elapsed": 9,
     "status": "ok",
     "timestamp": 1626212675349,
     "user": {
      "displayName": "Keivan Ipchi Hagh",
      "photoUrl": "https://lh3.googleusercontent.com/a-/AOh14GiLB9sd_pf8Zc4ho0leG3b4N20YHIsHFe-zqSIhSQ=s64",
      "userId": "02569620274590613261"
     },
     "user_tz": -270
    },
    "id": "m00i4AI5v0zO"
   },
   "outputs": [],
   "source": [
    "drive_dir = '/content/drive/MyDrive/NLP-In-Depth/Develop Deep Learning Models for Natural Language in Python/Data'\n",
    "\n",
    "# Save model\n",
    "model.save('/word2vec.model.bin')\n",
    "\n",
    "# Load model\n",
    "model = Word2Vec.load('/word2vec.model.bin')"
   ]
  },
  {
   "cell_type": "code",
   "execution_count": 10,
   "metadata": {
    "colab": {
     "base_uri": "https://localhost:8080/",
     "height": 318
    },
    "executionInfo": {
     "elapsed": 9,
     "status": "ok",
     "timestamp": 1626212675349,
     "user": {
      "displayName": "Keivan Ipchi Hagh",
      "photoUrl": "https://lh3.googleusercontent.com/a-/AOh14GiLB9sd_pf8Zc4ho0leG3b4N20YHIsHFe-zqSIhSQ=s64",
      "userId": "02569620274590613261"
     },
     "user_tz": -270
    },
    "id": "pwxDUz6VzvlR",
    "outputId": "0f5e7993-745d-4580-dfa6-db0770b47a10"
   },
   "outputs": [
    {
     "data": {
      "image/png": "[encoded data removed]",
      "text/plain": [
       "<Figure size 432x288 with 1 Axes>"
      ]
     },
     "metadata": {
      "needs_background": "light"
     },
     "output_type": "display_data"
    }
   ],
   "source": [
    "X = model.wv[model.wv.index_to_key]\n",
    "\n",
    "pca = PCA(n_components = 2)\n",
    "result = pca.fit_transform(X)\n",
    "\n",
    "plt.scatter(result[:, 0], result[:, 1])\n",
    "for i, word in enumerate(vocab):\n",
    "    plt.annotate(word, xy = (result[i, 0], result[i, 1]))\n",
    "plt.show()"
   ]
  },
  {
   "cell_type": "markdown",
   "metadata": {
    "id": "htuv80S21Gpj"
   },
   "source": [
    "## 12.6 - Load Google's Word2Vec Embedding"
   ]
  },
  {
   "cell_type": "code",
   "execution_count": 12,
   "metadata": {
    "executionInfo": {
     "elapsed": 7,
     "status": "ok",
     "timestamp": 1626212675350,
     "user": {
      "displayName": "Keivan Ipchi Hagh",
      "photoUrl": "https://lh3.googleusercontent.com/a-/AOh14GiLB9sd_pf8Zc4ho0leG3b4N20YHIsHFe-zqSIhSQ=s64",
      "userId": "02569620274590613261"
     },
     "user_tz": -270
    },
    "id": "VfjRNHhn0fI6"
   },
   "outputs": [],
   "source": [
    "filename = '../../../Documents/GoogleNews-vectors-negative300.bin'\n",
    "model = KeyedVectors.load_word2vec_format(filename, binary = True)"
   ]
  },
  {
   "cell_type": "code",
   "execution_count": 13,
   "metadata": {},
   "outputs": [
    {
     "name": "stdout",
     "output_type": "stream",
     "text": [
      "[('queen', 0.7118193507194519)]\n"
     ]
    }
   ],
   "source": [
    "result = model.most_similar(positive = ['king', 'woman'], negative = ['man'], topn = 1)\n",
    "print(result)"
   ]
  },
  {
   "cell_type": "code",
   "execution_count": null,
   "metadata": {},
   "outputs": [],
   "source": []
  }
 ],
 "metadata": {
  "colab": {
   "authorship_tag": "ABX9TyN229nBKM+lUcxXQUfhVrqN",
   "collapsed_sections": [],
   "mount_file_id": "1dkavwzFn_tNiW5uE_O_OTCUzYZDUG0pW",
   "name": "Chapter 12 - How To Develop Word Embeddings with Gensim.ipynb",
   "provenance": [],
   "toc_visible": true
  },
  "kernelspec": {
   "display_name": "Python 3",
   "language": "python",
   "name": "python3"
  },
  "language_info": {
   "codemirror_mode": {
    "name": "ipython",
    "version": 3
   },
   "file_extension": ".py",
   "mimetype": "text/x-python",
   "name": "python",
   "nbconvert_exporter": "python",
   "pygments_lexer": "ipython3",
   "version": "3.8.7"
  }
 },
 "nbformat": 4,
 "nbformat_minor": 4
}
